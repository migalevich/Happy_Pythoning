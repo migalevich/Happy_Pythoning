{
 "cells": [
  {
   "cell_type": "code",
   "execution_count": 113,
   "id": "c485e2d1",
   "metadata": {},
   "outputs": [],
   "source": [
    "import pandas as pd\n",
    "from datetime import datetime"
   ]
  },
  {
   "cell_type": "code",
   "execution_count": 77,
   "id": "1a7f92ef",
   "metadata": {},
   "outputs": [],
   "source": [
    "df = pd.read_csv('d:\\lesson_1_data.csv', encoding = 'windows-1251', sep = ';')"
   ]
  },
  {
   "cell_type": "code",
   "execution_count": 78,
   "id": "b8e664e4",
   "metadata": {},
   "outputs": [
    {
     "data": {
      "text/html": [
       "<div>\n",
       "<style scoped>\n",
       "    .dataframe tbody tr th:only-of-type {\n",
       "        vertical-align: middle;\n",
       "    }\n",
       "\n",
       "    .dataframe tbody tr th {\n",
       "        vertical-align: top;\n",
       "    }\n",
       "\n",
       "    .dataframe thead th {\n",
       "        text-align: right;\n",
       "    }\n",
       "</style>\n",
       "<table border=\"1\" class=\"dataframe\">\n",
       "  <thead>\n",
       "    <tr style=\"text-align: right;\">\n",
       "      <th></th>\n",
       "      <th>Номер</th>\n",
       "      <th>Дата создания</th>\n",
       "      <th>Дата оплаты</th>\n",
       "      <th>Title</th>\n",
       "      <th>Статус</th>\n",
       "      <th>Заработано</th>\n",
       "      <th>Город</th>\n",
       "      <th>Платежная система</th>\n",
       "    </tr>\n",
       "  </thead>\n",
       "  <tbody>\n",
       "    <tr>\n",
       "      <th>0</th>\n",
       "      <td>1062823</td>\n",
       "      <td>01.12.2019 10:50</td>\n",
       "      <td>01.12.2019 10:52</td>\n",
       "      <td>Курс обучения «Эксперт»</td>\n",
       "      <td>Завершен</td>\n",
       "      <td>29597.5</td>\n",
       "      <td>Чита</td>\n",
       "      <td>Сбербанк эквайринг</td>\n",
       "    </tr>\n",
       "    <tr>\n",
       "      <th>1</th>\n",
       "      <td>1062855</td>\n",
       "      <td>01.12.2019 20:53</td>\n",
       "      <td>01.12.2019 21:27</td>\n",
       "      <td>Курс обучения «Эксперт»</td>\n",
       "      <td>Завершен</td>\n",
       "      <td>17450.3</td>\n",
       "      <td>Краснодар</td>\n",
       "      <td>Яндекс.Касса</td>\n",
       "    </tr>\n",
       "    <tr>\n",
       "      <th>2</th>\n",
       "      <td>1062856</td>\n",
       "      <td>01.12.2019 21:43</td>\n",
       "      <td>NaN</td>\n",
       "      <td>Курс обучения «Специалист»</td>\n",
       "      <td>Отменен</td>\n",
       "      <td>0.0</td>\n",
       "      <td>NaN</td>\n",
       "      <td>NaN</td>\n",
       "    </tr>\n",
       "    <tr>\n",
       "      <th>3</th>\n",
       "      <td>1062880</td>\n",
       "      <td>03.12.2019 0:18</td>\n",
       "      <td>NaN</td>\n",
       "      <td>Курс обучения «Консультант»</td>\n",
       "      <td>Отменен</td>\n",
       "      <td>0.0</td>\n",
       "      <td>г.Москва и Московская область</td>\n",
       "      <td>NaN</td>\n",
       "    </tr>\n",
       "    <tr>\n",
       "      <th>4</th>\n",
       "      <td>1062899</td>\n",
       "      <td>03.12.2019 21:43</td>\n",
       "      <td>NaN</td>\n",
       "      <td>Курс обучения «Эксперт»</td>\n",
       "      <td>Отменен</td>\n",
       "      <td>0.0</td>\n",
       "      <td>г.Москва и Московская область</td>\n",
       "      <td>NaN</td>\n",
       "    </tr>\n",
       "  </tbody>\n",
       "</table>\n",
       "</div>"
      ],
      "text/plain": [
       "     Номер     Дата создания       Дата оплаты                        Title  \\\n",
       "0  1062823  01.12.2019 10:50  01.12.2019 10:52      Курс обучения «Эксперт»   \n",
       "1  1062855  01.12.2019 20:53  01.12.2019 21:27      Курс обучения «Эксперт»   \n",
       "2  1062856  01.12.2019 21:43               NaN   Курс обучения «Специалист»   \n",
       "3  1062880   03.12.2019 0:18               NaN  Курс обучения «Консультант»   \n",
       "4  1062899  03.12.2019 21:43               NaN      Курс обучения «Эксперт»   \n",
       "\n",
       "     Статус  Заработано                          Город   Платежная система  \n",
       "0  Завершен     29597.5                           Чита  Сбербанк эквайринг  \n",
       "1  Завершен     17450.3                      Краснодар        Яндекс.Касса  \n",
       "2   Отменен         0.0                            NaN                 NaN  \n",
       "3   Отменен         0.0  г.Москва и Московская область                 NaN  \n",
       "4   Отменен         0.0  г.Москва и Московская область                 NaN  "
      ]
     },
     "execution_count": 78,
     "metadata": {},
     "output_type": "execute_result"
    }
   ],
   "source": [
    "df.head() ## метод"
   ]
  },
  {
   "cell_type": "code",
   "execution_count": 79,
   "id": "8955131e",
   "metadata": {},
   "outputs": [
    {
     "data": {
      "text/plain": [
       "(292, 8)"
      ]
     },
     "execution_count": 79,
     "metadata": {},
     "output_type": "execute_result"
    }
   ],
   "source": [
    "df.shape ## атрибут "
   ]
  },
  {
   "cell_type": "code",
   "execution_count": 80,
   "id": "cace12f2",
   "metadata": {},
   "outputs": [
    {
     "data": {
      "text/plain": [
       "Номер                  int64\n",
       "Дата создания         object\n",
       "Дата оплаты           object\n",
       "Title                 object\n",
       "Статус                object\n",
       "Заработано           float64\n",
       "Город                 object\n",
       "Платежная система     object\n",
       "dtype: object"
      ]
     },
     "execution_count": 80,
     "metadata": {},
     "output_type": "execute_result"
    }
   ],
   "source": [
    "df.dtypes"
   ]
  },
  {
   "cell_type": "code",
   "execution_count": 81,
   "id": "fd625f63",
   "metadata": {},
   "outputs": [
    {
     "data": {
      "text/html": [
       "<div>\n",
       "<style scoped>\n",
       "    .dataframe tbody tr th:only-of-type {\n",
       "        vertical-align: middle;\n",
       "    }\n",
       "\n",
       "    .dataframe tbody tr th {\n",
       "        vertical-align: top;\n",
       "    }\n",
       "\n",
       "    .dataframe thead th {\n",
       "        text-align: right;\n",
       "    }\n",
       "</style>\n",
       "<table border=\"1\" class=\"dataframe\">\n",
       "  <thead>\n",
       "    <tr style=\"text-align: right;\">\n",
       "      <th></th>\n",
       "      <th>Номер</th>\n",
       "      <th>Заработано</th>\n",
       "    </tr>\n",
       "  </thead>\n",
       "  <tbody>\n",
       "    <tr>\n",
       "      <th>count</th>\n",
       "      <td>2.920000e+02</td>\n",
       "      <td>292.000000</td>\n",
       "    </tr>\n",
       "    <tr>\n",
       "      <th>mean</th>\n",
       "      <td>1.063745e+06</td>\n",
       "      <td>3397.615034</td>\n",
       "    </tr>\n",
       "    <tr>\n",
       "      <th>std</th>\n",
       "      <td>4.438688e+02</td>\n",
       "      <td>5771.572829</td>\n",
       "    </tr>\n",
       "    <tr>\n",
       "      <th>min</th>\n",
       "      <td>1.062823e+06</td>\n",
       "      <td>0.000000</td>\n",
       "    </tr>\n",
       "    <tr>\n",
       "      <th>25%</th>\n",
       "      <td>1.063608e+06</td>\n",
       "      <td>0.000000</td>\n",
       "    </tr>\n",
       "    <tr>\n",
       "      <th>50%</th>\n",
       "      <td>1.063698e+06</td>\n",
       "      <td>2935.440000</td>\n",
       "    </tr>\n",
       "    <tr>\n",
       "      <th>75%</th>\n",
       "      <td>1.063807e+06</td>\n",
       "      <td>2935.440000</td>\n",
       "    </tr>\n",
       "    <tr>\n",
       "      <th>max</th>\n",
       "      <td>1.064796e+06</td>\n",
       "      <td>42750.000000</td>\n",
       "    </tr>\n",
       "  </tbody>\n",
       "</table>\n",
       "</div>"
      ],
      "text/plain": [
       "              Номер    Заработано\n",
       "count  2.920000e+02    292.000000\n",
       "mean   1.063745e+06   3397.615034\n",
       "std    4.438688e+02   5771.572829\n",
       "min    1.062823e+06      0.000000\n",
       "25%    1.063608e+06      0.000000\n",
       "50%    1.063698e+06   2935.440000\n",
       "75%    1.063807e+06   2935.440000\n",
       "max    1.064796e+06  42750.000000"
      ]
     },
     "execution_count": 81,
     "metadata": {},
     "output_type": "execute_result"
    }
   ],
   "source": [
    "df.describe()"
   ]
  },
  {
   "cell_type": "code",
   "execution_count": 82,
   "id": "7cbd5e52",
   "metadata": {},
   "outputs": [
    {
     "data": {
      "text/plain": [
       "Index(['Номер', 'Дата создания', 'Дата оплаты', 'Title', 'Статус',\n",
       "       'Заработано', 'Город', 'Платежная система'],\n",
       "      dtype='object')"
      ]
     },
     "execution_count": 82,
     "metadata": {},
     "output_type": "execute_result"
    }
   ],
   "source": [
    "df.columns"
   ]
  },
  {
   "cell_type": "code",
   "execution_count": 83,
   "id": "51a1bb88",
   "metadata": {},
   "outputs": [],
   "source": [
    "df = df.rename(columns = {'Номер' : 'number', \n",
    "               'Дата создания' : 'create_date', \n",
    "               'Дата оплаты' : 'payment_date', \n",
    "               'Title' : 'title', \n",
    "               'Статус' : 'status',\n",
    "               'Заработано' : 'money', \n",
    "               'Город' : 'city', \n",
    "               'Платежная система' : 'payment_system'})"
   ]
  },
  {
   "cell_type": "code",
   "execution_count": 84,
   "id": "654fa444",
   "metadata": {},
   "outputs": [
    {
     "data": {
      "text/plain": [
       "Index(['number', 'create_date', 'payment_date', 'title', 'status', 'money',\n",
       "       'city', 'payment_system'],\n",
       "      dtype='object')"
      ]
     },
     "execution_count": 84,
     "metadata": {},
     "output_type": "execute_result"
    }
   ],
   "source": [
    "df.columns"
   ]
  },
  {
   "cell_type": "code",
   "execution_count": 85,
   "id": "698bdc5f",
   "metadata": {},
   "outputs": [
    {
     "data": {
      "text/html": [
       "<div>\n",
       "<style scoped>\n",
       "    .dataframe tbody tr th:only-of-type {\n",
       "        vertical-align: middle;\n",
       "    }\n",
       "\n",
       "    .dataframe tbody tr th {\n",
       "        vertical-align: top;\n",
       "    }\n",
       "\n",
       "    .dataframe thead th {\n",
       "        text-align: right;\n",
       "    }\n",
       "</style>\n",
       "<table border=\"1\" class=\"dataframe\">\n",
       "  <thead>\n",
       "    <tr style=\"text-align: right;\">\n",
       "      <th></th>\n",
       "      <th>number</th>\n",
       "      <th>create_date</th>\n",
       "      <th>payment_date</th>\n",
       "      <th>title</th>\n",
       "      <th>status</th>\n",
       "      <th>money</th>\n",
       "      <th>city</th>\n",
       "      <th>payment_system</th>\n",
       "    </tr>\n",
       "  </thead>\n",
       "  <tbody>\n",
       "    <tr>\n",
       "      <th>0</th>\n",
       "      <td>1062823</td>\n",
       "      <td>01.12.2019 10:50</td>\n",
       "      <td>01.12.2019 10:52</td>\n",
       "      <td>Курс обучения «Эксперт»</td>\n",
       "      <td>Завершен</td>\n",
       "      <td>29597.5</td>\n",
       "      <td>Чита</td>\n",
       "      <td>Сбербанк эквайринг</td>\n",
       "    </tr>\n",
       "    <tr>\n",
       "      <th>1</th>\n",
       "      <td>1062855</td>\n",
       "      <td>01.12.2019 20:53</td>\n",
       "      <td>01.12.2019 21:27</td>\n",
       "      <td>Курс обучения «Эксперт»</td>\n",
       "      <td>Завершен</td>\n",
       "      <td>17450.3</td>\n",
       "      <td>Краснодар</td>\n",
       "      <td>Яндекс.Касса</td>\n",
       "    </tr>\n",
       "    <tr>\n",
       "      <th>2</th>\n",
       "      <td>1062856</td>\n",
       "      <td>01.12.2019 21:43</td>\n",
       "      <td>NaN</td>\n",
       "      <td>Курс обучения «Специалист»</td>\n",
       "      <td>Отменен</td>\n",
       "      <td>0.0</td>\n",
       "      <td>NaN</td>\n",
       "      <td>NaN</td>\n",
       "    </tr>\n",
       "    <tr>\n",
       "      <th>3</th>\n",
       "      <td>1062880</td>\n",
       "      <td>03.12.2019 0:18</td>\n",
       "      <td>NaN</td>\n",
       "      <td>Курс обучения «Консультант»</td>\n",
       "      <td>Отменен</td>\n",
       "      <td>0.0</td>\n",
       "      <td>г.Москва и Московская область</td>\n",
       "      <td>NaN</td>\n",
       "    </tr>\n",
       "    <tr>\n",
       "      <th>4</th>\n",
       "      <td>1062899</td>\n",
       "      <td>03.12.2019 21:43</td>\n",
       "      <td>NaN</td>\n",
       "      <td>Курс обучения «Эксперт»</td>\n",
       "      <td>Отменен</td>\n",
       "      <td>0.0</td>\n",
       "      <td>г.Москва и Московская область</td>\n",
       "      <td>NaN</td>\n",
       "    </tr>\n",
       "  </tbody>\n",
       "</table>\n",
       "</div>"
      ],
      "text/plain": [
       "    number       create_date      payment_date                        title  \\\n",
       "0  1062823  01.12.2019 10:50  01.12.2019 10:52      Курс обучения «Эксперт»   \n",
       "1  1062855  01.12.2019 20:53  01.12.2019 21:27      Курс обучения «Эксперт»   \n",
       "2  1062856  01.12.2019 21:43               NaN   Курс обучения «Специалист»   \n",
       "3  1062880   03.12.2019 0:18               NaN  Курс обучения «Консультант»   \n",
       "4  1062899  03.12.2019 21:43               NaN      Курс обучения «Эксперт»   \n",
       "\n",
       "     status    money                           city      payment_system  \n",
       "0  Завершен  29597.5                           Чита  Сбербанк эквайринг  \n",
       "1  Завершен  17450.3                      Краснодар        Яндекс.Касса  \n",
       "2   Отменен      0.0                            NaN                 NaN  \n",
       "3   Отменен      0.0  г.Москва и Московская область                 NaN  \n",
       "4   Отменен      0.0  г.Москва и Московская область                 NaN  "
      ]
     },
     "execution_count": 85,
     "metadata": {},
     "output_type": "execute_result"
    }
   ],
   "source": [
    "df.head()"
   ]
  },
  {
   "cell_type": "code",
   "execution_count": 102,
   "id": "1bcf269c",
   "metadata": {},
   "outputs": [
    {
     "data": {
      "text/plain": [
       "array(['Курс обучения «Эксперт»', 'Курс обучения «Специалист»',\n",
       "       'Курс обучения «Консультант»', 'Курс от Школы Диетологов. Бизнес',\n",
       "       'Курс от Школы Диетологов. Повышение квалификации. ',\n",
       "       'Подписка «ОНЛАЙН ДИЕТОЛОГ» с ежемесячным автосписанием'],\n",
       "      dtype=object)"
      ]
     },
     "execution_count": 102,
     "metadata": {},
     "output_type": "execute_result"
    }
   ],
   "source": [
    "df.title.unique()"
   ]
  },
  {
   "cell_type": "code",
   "execution_count": 86,
   "id": "712369aa",
   "metadata": {},
   "outputs": [
    {
     "data": {
      "text/html": [
       "<div>\n",
       "<style scoped>\n",
       "    .dataframe tbody tr th:only-of-type {\n",
       "        vertical-align: middle;\n",
       "    }\n",
       "\n",
       "    .dataframe tbody tr th {\n",
       "        vertical-align: top;\n",
       "    }\n",
       "\n",
       "    .dataframe thead th {\n",
       "        text-align: right;\n",
       "    }\n",
       "</style>\n",
       "<table border=\"1\" class=\"dataframe\">\n",
       "  <thead>\n",
       "    <tr style=\"text-align: right;\">\n",
       "      <th></th>\n",
       "      <th>title</th>\n",
       "      <th>number</th>\n",
       "    </tr>\n",
       "  </thead>\n",
       "  <tbody>\n",
       "    <tr>\n",
       "      <th>0</th>\n",
       "      <td>Курс обучения «Эксперт»</td>\n",
       "      <td>1062823</td>\n",
       "    </tr>\n",
       "    <tr>\n",
       "      <th>1</th>\n",
       "      <td>Курс обучения «Эксперт»</td>\n",
       "      <td>1062855</td>\n",
       "    </tr>\n",
       "    <tr>\n",
       "      <th>2</th>\n",
       "      <td>Курс обучения «Специалист»</td>\n",
       "      <td>1062856</td>\n",
       "    </tr>\n",
       "    <tr>\n",
       "      <th>3</th>\n",
       "      <td>Курс обучения «Консультант»</td>\n",
       "      <td>1062880</td>\n",
       "    </tr>\n",
       "    <tr>\n",
       "      <th>4</th>\n",
       "      <td>Курс обучения «Эксперт»</td>\n",
       "      <td>1062899</td>\n",
       "    </tr>\n",
       "    <tr>\n",
       "      <th>...</th>\n",
       "      <td>...</td>\n",
       "      <td>...</td>\n",
       "    </tr>\n",
       "    <tr>\n",
       "      <th>287</th>\n",
       "      <td>Подписка «ОНЛАЙН ДИЕТОЛОГ» с ежемесячным автос...</td>\n",
       "      <td>1064720</td>\n",
       "    </tr>\n",
       "    <tr>\n",
       "      <th>288</th>\n",
       "      <td>Курс обучения «Консультант»</td>\n",
       "      <td>1064724</td>\n",
       "    </tr>\n",
       "    <tr>\n",
       "      <th>289</th>\n",
       "      <td>Курс обучения «Консультант»</td>\n",
       "      <td>1064775</td>\n",
       "    </tr>\n",
       "    <tr>\n",
       "      <th>290</th>\n",
       "      <td>Подписка «ОНЛАЙН ДИЕТОЛОГ» с ежемесячным автос...</td>\n",
       "      <td>1064793</td>\n",
       "    </tr>\n",
       "    <tr>\n",
       "      <th>291</th>\n",
       "      <td>Курс от Школы Диетологов. Повышение квалификац...</td>\n",
       "      <td>1064796</td>\n",
       "    </tr>\n",
       "  </tbody>\n",
       "</table>\n",
       "<p>292 rows × 2 columns</p>\n",
       "</div>"
      ],
      "text/plain": [
       "                                                 title   number\n",
       "0                              Курс обучения «Эксперт»  1062823\n",
       "1                              Курс обучения «Эксперт»  1062855\n",
       "2                           Курс обучения «Специалист»  1062856\n",
       "3                          Курс обучения «Консультант»  1062880\n",
       "4                              Курс обучения «Эксперт»  1062899\n",
       "..                                                 ...      ...\n",
       "287  Подписка «ОНЛАЙН ДИЕТОЛОГ» с ежемесячным автос...  1064720\n",
       "288                        Курс обучения «Консультант»  1064724\n",
       "289                        Курс обучения «Консультант»  1064775\n",
       "290  Подписка «ОНЛАЙН ДИЕТОЛОГ» с ежемесячным автос...  1064793\n",
       "291  Курс от Школы Диетологов. Повышение квалификац...  1064796\n",
       "\n",
       "[292 rows x 2 columns]"
      ]
     },
     "execution_count": 86,
     "metadata": {},
     "output_type": "execute_result"
    }
   ],
   "source": [
    "df[['title','number']]"
   ]
  },
  {
   "cell_type": "code",
   "execution_count": 87,
   "id": "d737216e",
   "metadata": {},
   "outputs": [
    {
     "data": {
      "text/plain": [
       "dtype('int64')"
      ]
     },
     "execution_count": 87,
     "metadata": {},
     "output_type": "execute_result"
    }
   ],
   "source": [
    "df.number.dtypes"
   ]
  },
  {
   "cell_type": "code",
   "execution_count": 88,
   "id": "e52bc64f",
   "metadata": {},
   "outputs": [],
   "source": [
    "all_money = df.money.sum()"
   ]
  },
  {
   "cell_type": "code",
   "execution_count": 89,
   "id": "cca4f02c",
   "metadata": {},
   "outputs": [
    {
     "data": {
      "text/plain": [
       "992103.5900000001"
      ]
     },
     "execution_count": 89,
     "metadata": {},
     "output_type": "execute_result"
    }
   ],
   "source": [
    "all_money"
   ]
  },
  {
   "cell_type": "code",
   "execution_count": 90,
   "id": "dc6ef20f",
   "metadata": {},
   "outputs": [],
   "source": [
    "money_by_city = df \\\n",
    "    .groupby(['title','city'], as_index=False) \\\n",
    "    .aggregate({'money':'sum'}) \\\n",
    "    .sort_values(['money','city'], ascending=False) ## сумма заработанных денег с группировкой по названию курсов и городу"
   ]
  },
  {
   "cell_type": "code",
   "execution_count": 91,
   "id": "411e4fb4",
   "metadata": {},
   "outputs": [],
   "source": [
    "money_by_city.to_csv('money_by_city.csv', index=False) ## запись df в файл "
   ]
  },
  {
   "cell_type": "code",
   "execution_count": null,
   "id": "a2fee6e0",
   "metadata": {},
   "outputs": [],
   "source": []
  },
  {
   "cell_type": "code",
   "execution_count": 111,
   "id": "7bf56b6d",
   "metadata": {},
   "outputs": [],
   "source": [
    "money_by_title = df \\\n",
    "    .query(\"status == 'Завершен'\")\\\n",
    "    .groupby(['title'], as_index=False) \\\n",
    "    .aggregate({'money':'sum', 'number':'count'}) \\\n",
    "    .sort_values(['money'], ascending=False) \\\n",
    "    .rename(columns = {'number':'success_orders'}) ## сумма заработанных денег и кол-во заказов (Успешных) с группировкой по названию курсов"
   ]
  },
  {
   "cell_type": "code",
   "execution_count": 120,
   "id": "e3079563",
   "metadata": {},
   "outputs": [],
   "source": [
    "today_day = datetime.today().strftime('%Y-%m-%d')\n",
    "file_name = 'money_by_title {}.csv' ## заготовка названия файла \n",
    "file_name = file_name.format(today_day)"
   ]
  },
  {
   "cell_type": "code",
   "execution_count": 122,
   "id": "5c656f95",
   "metadata": {},
   "outputs": [
    {
     "name": "stdout",
     "output_type": "stream",
     "text": [
      "OK! File money_by_title 2022-04-09.csv is written.\n"
     ]
    }
   ],
   "source": [
    "## проверка на то что общая сумма совпадает после манипуляций с df \n",
    "if int(money_by_title.money.sum()) == int(all_money):\n",
    "    print('OK! File {} is written.'.format(file_name))\n",
    "    money_by_title.to_csv(file_name, index=False)\n",
    "else:\n",
    "    print('ERROR!!!!!!')\n",
    "    "
   ]
  },
  {
   "cell_type": "code",
   "execution_count": null,
   "id": "9a6822ac",
   "metadata": {},
   "outputs": [],
   "source": []
  },
  {
   "cell_type": "code",
   "execution_count": null,
   "id": "60e87030",
   "metadata": {},
   "outputs": [],
   "source": []
  },
  {
   "cell_type": "code",
   "execution_count": null,
   "id": "31166ecf",
   "metadata": {},
   "outputs": [],
   "source": []
  },
  {
   "cell_type": "code",
   "execution_count": null,
   "id": "f90560c6",
   "metadata": {},
   "outputs": [],
   "source": []
  },
  {
   "cell_type": "code",
   "execution_count": null,
   "id": "8fe895d0",
   "metadata": {},
   "outputs": [],
   "source": []
  }
 ],
 "metadata": {
  "kernelspec": {
   "display_name": "Python 3 (ipykernel)",
   "language": "python",
   "name": "python3"
  },
  "language_info": {
   "codemirror_mode": {
    "name": "ipython",
    "version": 3
   },
   "file_extension": ".py",
   "mimetype": "text/x-python",
   "name": "python",
   "nbconvert_exporter": "python",
   "pygments_lexer": "ipython3",
   "version": "3.9.7"
  }
 },
 "nbformat": 4,
 "nbformat_minor": 5
}
