{
 "cells": [
  {
   "cell_type": "code",
   "execution_count": 1,
   "id": "e6a3ea0d",
   "metadata": {},
   "outputs": [],
   "source": [
    "# Импортируйте библиотеку pandas как pd. Загрузите два датасета user_data и logs. \n",
    "# Проверьте размер таблицы, типы переменных, наличие пропущенных значений, описательную статистику.\n",
    "# Какой клиент совершил больше всего успешных операций? (success == True)\n",
    "# С какой платформы осуществляется наибольшее количество успешных операций?\n",
    "# Какую платформу предпочитают премиальные клиенты?\n",
    "# Визуализируйте распределение возраста клиентов в зависимости от типа клиента (премиум или нет)\n",
    "# Постройте график распределения числа успешных операций\n",
    "# Визуализируйте число успешных операций, сделанных на платформе computer, в зависимости от возраста, \n",
    "#   используя sns.countplot (x – возраст, y – число успешных операций). \n",
    "# Клиенты какого возраста совершили наибольшее количество успешных действий?"
   ]
  },
  {
   "cell_type": "code",
   "execution_count": 9,
   "id": "07feac5e",
   "metadata": {},
   "outputs": [],
   "source": [
    "import pandas as pd"
   ]
  },
  {
   "cell_type": "code",
   "execution_count": 11,
   "id": "8ca70147",
   "metadata": {},
   "outputs": [
    {
     "ename": "SyntaxError",
     "evalue": "(unicode error) 'unicodeescape' codec can't decode bytes in position 12-13: truncated \\uXXXX escape (Temp/ipykernel_16376/244837440.py, line 1)",
     "output_type": "error",
     "traceback": [
      "\u001b[1;36m  File \u001b[1;32m\"C:\\Users\\Olga\\AppData\\Local\\Temp/ipykernel_16376/244837440.py\"\u001b[1;36m, line \u001b[1;32m1\u001b[0m\n\u001b[1;33m    user_data = pd.read_csv('d:\\Pythoning\\user_data.csv')#, encoding='windows-1251')\u001b[0m\n\u001b[1;37m                                                        ^\u001b[0m\n\u001b[1;31mSyntaxError\u001b[0m\u001b[1;31m:\u001b[0m (unicode error) 'unicodeescape' codec can't decode bytes in position 12-13: truncated \\uXXXX escape\n"
     ]
    }
   ],
   "source": [
    "user_data = pd.read_csv('d:\\Pythoning\\user_data.csv')#, encoding='windows-1251')"
   ]
  },
  {
   "cell_type": "code",
   "execution_count": null,
   "id": "c37a5627",
   "metadata": {},
   "outputs": [],
   "source": [
    "logs = "
   ]
  }
 ],
 "metadata": {
  "kernelspec": {
   "display_name": "Python 3 (ipykernel)",
   "language": "python",
   "name": "python3"
  },
  "language_info": {
   "codemirror_mode": {
    "name": "ipython",
    "version": 3
   },
   "file_extension": ".py",
   "mimetype": "text/x-python",
   "name": "python",
   "nbconvert_exporter": "python",
   "pygments_lexer": "ipython3",
   "version": "3.9.7"
  }
 },
 "nbformat": 4,
 "nbformat_minor": 5
}
