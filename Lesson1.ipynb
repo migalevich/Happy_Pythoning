{
 "cells": [
  {
   "cell_type": "code",
   "execution_count": 3,
   "id": "299f66ac",
   "metadata": {},
   "outputs": [],
   "source": [
    "analyst = 'Anatoly'"
   ]
  },
  {
   "cell_type": "code",
   "execution_count": 6,
   "id": "88ebb778",
   "metadata": {},
   "outputs": [],
   "source": [
    "years = 2"
   ]
  },
  {
   "cell_type": "code",
   "execution_count": 11,
   "id": "8081595f",
   "metadata": {},
   "outputs": [],
   "source": [
    "has_job = False"
   ]
  },
  {
   "cell_type": "code",
   "execution_count": 11,
   "id": "b0f385bf",
   "metadata": {},
   "outputs": [],
   "source": [
    "analysts = ['Anatoly', 'Olga', 'Beslan']"
   ]
  },
  {
   "cell_type": "code",
   "execution_count": 19,
   "id": "f50a5d94",
   "metadata": {},
   "outputs": [],
   "source": [
    "years = [2, 3, 4]"
   ]
  },
  {
   "cell_type": "code",
   "execution_count": 24,
   "id": "8a1513a7",
   "metadata": {},
   "outputs": [
    {
     "data": {
      "text/plain": [
       "3"
      ]
     },
     "execution_count": 24,
     "metadata": {},
     "output_type": "execute_result"
    }
   ],
   "source": [
    "len(analysts) ## длинна массива"
   ]
  },
  {
   "cell_type": "code",
   "execution_count": 25,
   "id": "93da2488",
   "metadata": {},
   "outputs": [],
   "source": [
    "analysts.append('Mihail') ## добавление элемента в массив"
   ]
  },
  {
   "cell_type": "code",
   "execution_count": 26,
   "id": "3b421df1",
   "metadata": {},
   "outputs": [
    {
     "data": {
      "text/plain": [
       "['Anatoly', 'Olga', 'Beslan', 'Mihail']"
      ]
     },
     "execution_count": 26,
     "metadata": {},
     "output_type": "execute_result"
    }
   ],
   "source": [
    "analysts"
   ]
  },
  {
   "cell_type": "code",
   "execution_count": 27,
   "id": "e497cedd",
   "metadata": {},
   "outputs": [
    {
     "data": {
      "text/plain": [
       "'Mihail'"
      ]
     },
     "execution_count": 27,
     "metadata": {},
     "output_type": "execute_result"
    }
   ],
   "source": [
    "analysts.pop(3) ## Удаление элемента из массива"
   ]
  },
  {
   "cell_type": "code",
   "execution_count": 28,
   "id": "802930c2",
   "metadata": {},
   "outputs": [
    {
     "data": {
      "text/plain": [
       "['Anatoly', 'Olga', 'Beslan']"
      ]
     },
     "execution_count": 28,
     "metadata": {},
     "output_type": "execute_result"
    }
   ],
   "source": [
    "analysts"
   ]
  },
  {
   "cell_type": "code",
   "execution_count": 29,
   "id": "e4b9a5f0",
   "metadata": {},
   "outputs": [],
   "source": [
    "has_job = False"
   ]
  },
  {
   "cell_type": "code",
   "execution_count": 31,
   "id": "589d6806",
   "metadata": {},
   "outputs": [
    {
     "name": "stdout",
     "output_type": "stream",
     "text": [
      "Anatoly is sad...\n"
     ]
    }
   ],
   "source": [
    "if has_job:\n",
    "    happy_massage = 'Anatoly is happy!'\n",
    "    print(happy_massage)\n",
    "else:\n",
    "    sad_massage = 'Anatoly is sad...'\n",
    "    print(sad_massage)"
   ]
  },
  {
   "cell_type": "code",
   "execution_count": 32,
   "id": "22c79e0d",
   "metadata": {},
   "outputs": [
    {
     "name": "stdout",
     "output_type": "stream",
     "text": [
      "Anatoly is sad...\n"
     ]
    }
   ],
   "source": [
    "if has_job:\n",
    "    massage = 'Anatoly is happy!'\n",
    "else:\n",
    "    massage = 'Anatoly is sad...'\n",
    "print(massage)"
   ]
  },
  {
   "cell_type": "code",
   "execution_count": 53,
   "id": "3cb39edb",
   "metadata": {},
   "outputs": [],
   "source": [
    "job_years = 5\n",
    "salary = 10000\n",
    "message = 'Addional is equel {coeficient}. New salary is {new_salary}.' ##"
   ]
  },
  {
   "cell_type": "code",
   "execution_count": 54,
   "id": "6b510aec",
   "metadata": {},
   "outputs": [
    {
     "name": "stdout",
     "output_type": "stream",
     "text": [
      "Addional is equel 0.4. New salary is 14000.0.\n"
     ]
    }
   ],
   "source": [
    "if job_years < 1:\n",
    "    coef = 0\n",
    "elif job_years >= 1 and job_years <= 2:\n",
    "    coef = 0.2\n",
    "else:\n",
    "    coef = 0.4\n",
    "\n",
    "new_salary = salary + salary * coef\n",
    "\n",
    "##print(message.format(coef)) ## подставление значения в строку\n",
    "print(message.format(coeficient = coef, new_salary = new_salary))"
   ]
  },
  {
   "cell_type": "code",
   "execution_count": 55,
   "id": "4fab4001",
   "metadata": {},
   "outputs": [],
   "source": [
    "analysts = ['Anatoly', 'Olga', 'Beslan']"
   ]
  },
  {
   "cell_type": "code",
   "execution_count": 64,
   "id": "e05cf167",
   "metadata": {},
   "outputs": [
    {
     "name": "stdout",
     "output_type": "stream",
     "text": [
      "Analyst name is Anatoly.\n"
     ]
    }
   ],
   "source": [
    "for i in analysts:\n",
    "    if i == 'Anatoly':\n",
    "        print('Analyst name is {}.'.format(i))"
   ]
  },
  {
   "cell_type": "code",
   "execution_count": 69,
   "id": "041d1d0f",
   "metadata": {},
   "outputs": [],
   "source": [
    "analysts_data = {'Anatoly': [2, 100000], 'Olga': [3, 200000], 'Beslan': [4, 300000]}"
   ]
  },
  {
   "cell_type": "code",
   "execution_count": 70,
   "id": "b36b58f6",
   "metadata": {},
   "outputs": [
    {
     "data": {
      "text/plain": [
       "{'Anatoly': [2, 100000], 'Olga': [3, 200000], 'Beslan': [4, 300000]}"
      ]
     },
     "execution_count": 70,
     "metadata": {},
     "output_type": "execute_result"
    }
   ],
   "source": [
    "analysts_data"
   ]
  },
  {
   "cell_type": "code",
   "execution_count": 75,
   "id": "afd4a6d2",
   "metadata": {},
   "outputs": [
    {
     "data": {
      "text/plain": [
       "300000"
      ]
     },
     "execution_count": 75,
     "metadata": {},
     "output_type": "execute_result"
    }
   ],
   "source": [
    "analysts_data['Beslan'][1]"
   ]
  },
  {
   "cell_type": "code",
   "execution_count": 4,
   "id": "45219016",
   "metadata": {},
   "outputs": [],
   "source": [
    "worker = ['Anna', 'Ivanova', 2000.50 , 9]"
   ]
  },
  {
   "cell_type": "code",
   "execution_count": 5,
   "id": "4c3b2b51",
   "metadata": {},
   "outputs": [
    {
     "name": "stdout",
     "output_type": "stream",
     "text": [
      "['Anna', 'Ivanova', 2000.5, 9]\n"
     ]
    }
   ],
   "source": [
    "print(user_info)"
   ]
  },
  {
   "cell_type": "code",
   "execution_count": 9,
   "id": "7c5e7b15",
   "metadata": {},
   "outputs": [],
   "source": [
    "first = analysts[0]"
   ]
  },
  {
   "cell_type": "code",
   "execution_count": 10,
   "id": "3448eb96",
   "metadata": {},
   "outputs": [
    {
     "name": "stdout",
     "output_type": "stream",
     "text": [
      "Anatoly\n"
     ]
    }
   ],
   "source": [
    "print(first)"
   ]
  },
  {
   "cell_type": "code",
   "execution_count": 15,
   "id": "0269ff6b",
   "metadata": {},
   "outputs": [],
   "source": [
    "analysts.append('Mihail')"
   ]
  },
  {
   "cell_type": "code",
   "execution_count": 16,
   "id": "383ea57f",
   "metadata": {},
   "outputs": [],
   "source": [
    "analysts.append(32)"
   ]
  },
  {
   "cell_type": "code",
   "execution_count": 17,
   "id": "31e41b49",
   "metadata": {},
   "outputs": [
    {
     "data": {
      "text/plain": [
       "['Anatoly', 'Olga', 'Beslan', 'Mihail', 'Mihail', 'Mihail', 32]"
      ]
     },
     "execution_count": 17,
     "metadata": {},
     "output_type": "execute_result"
    }
   ],
   "source": [
    "analysts"
   ]
  },
  {
   "cell_type": "code",
   "execution_count": 18,
   "id": "07690f00",
   "metadata": {},
   "outputs": [],
   "source": [
    "user_ages = [10, 18, 21, 35, 42, 27, 12, 16]"
   ]
  },
  {
   "cell_type": "code",
   "execution_count": 20,
   "id": "03d92e64",
   "metadata": {},
   "outputs": [
    {
     "name": "stdout",
     "output_type": "stream",
     "text": [
      "21\n",
      "35\n",
      "42\n",
      "27\n"
     ]
    }
   ],
   "source": [
    "for i in user_ages:\n",
    "    if i > 18:\n",
    "        print(i)"
   ]
  },
  {
   "cell_type": "code",
   "execution_count": null,
   "id": "25a47417",
   "metadata": {},
   "outputs": [],
   "source": []
  },
  {
   "cell_type": "code",
   "execution_count": null,
   "id": "9ceb2036",
   "metadata": {},
   "outputs": [],
   "source": [
    "## Task 1"
   ]
  },
  {
   "cell_type": "code",
   "execution_count": 62,
   "id": "a3608d19",
   "metadata": {},
   "outputs": [],
   "source": [
    "worker = ['Olya', 'Silyutina', 350000, 3]"
   ]
  },
  {
   "cell_type": "code",
   "execution_count": 63,
   "id": "b4be8ba0",
   "metadata": {},
   "outputs": [],
   "source": [
    "status = '{user_name} {user_family} is {position}'"
   ]
  },
  {
   "cell_type": "code",
   "execution_count": 64,
   "id": "241a24de",
   "metadata": {},
   "outputs": [
    {
     "data": {
      "text/plain": [
       "'Olya Silyutina is middle'"
      ]
     },
     "execution_count": 64,
     "metadata": {},
     "output_type": "execute_result"
    }
   ],
   "source": [
    "stage = worker[3]\n",
    "if stage < 2: ## стаж\n",
    "    position = 'junior'\n",
    "elif stage >= 2 and stage <= 5:\n",
    "    position = 'middle'\n",
    "else: \n",
    "    position = 'senior'\n",
    "        \n",
    "status.format(user_name = worker[0], user_family = worker[1], position = position)"
   ]
  },
  {
   "cell_type": "code",
   "execution_count": null,
   "id": "ff529035",
   "metadata": {},
   "outputs": [],
   "source": []
  },
  {
   "cell_type": "code",
   "execution_count": null,
   "id": "f7abc52b",
   "metadata": {},
   "outputs": [],
   "source": [
    "## Task 2"
   ]
  },
  {
   "cell_type": "code",
   "execution_count": 90,
   "id": "98191485",
   "metadata": {},
   "outputs": [],
   "source": [
    "values = [12, 134, 10, 47, 100, 20, 50, 160, 210]"
   ]
  },
  {
   "cell_type": "code",
   "execution_count": 91,
   "id": "19da17e2",
   "metadata": {},
   "outputs": [
    {
     "name": "stdout",
     "output_type": "stream",
     "text": [
      "[10, 100, 20, 50, 160, 210]\n"
     ]
    }
   ],
   "source": [
    "new_list = []\n",
    "\n",
    "\n",
    "for i in values:\n",
    "    if i % 10 == 0:\n",
    "        new_list.append(i)\n",
    "\n",
    "print(new_list)"
   ]
  },
  {
   "cell_type": "code",
   "execution_count": null,
   "id": "9d859c50",
   "metadata": {},
   "outputs": [],
   "source": []
  },
  {
   "cell_type": "code",
   "execution_count": null,
   "id": "760359e4",
   "metadata": {},
   "outputs": [],
   "source": [
    "## Task 3"
   ]
  },
  {
   "cell_type": "code",
   "execution_count": 138,
   "id": "c247f693",
   "metadata": {},
   "outputs": [],
   "source": [
    "workers = [['Ivan', 'Ivanov', 100000, 2], ['Petr', 'Petrov', 150000, 2], ['Sidor', 'Sidorov', 200000, 3]]"
   ]
  },
  {
   "cell_type": "code",
   "execution_count": 139,
   "id": "2089253a",
   "metadata": {},
   "outputs": [],
   "source": [
    "status = '{user_name} {user_family} is {position}'"
   ]
  },
  {
   "cell_type": "code",
   "execution_count": 140,
   "id": "9d74bfe0",
   "metadata": {},
   "outputs": [
    {
     "name": "stdout",
     "output_type": "stream",
     "text": [
      "Ivan Ivanov is middle\n",
      "Petr Petrov is middle\n",
      "Sidor Sidorov is middle\n"
     ]
    }
   ],
   "source": [
    "\n",
    "for i in workers:\n",
    "    stage = i[3]\n",
    "    if stage < 2:\n",
    "        position = 'junior' \n",
    "    elif stage >= 2 and stage <= 5:\n",
    "        position = 'middle'\n",
    "    else: \n",
    "        position = 'senior'\n",
    "    print(status.format(user_name = i[0], user_family = i[1], position = position))\n",
    "        "
   ]
  },
  {
   "cell_type": "code",
   "execution_count": null,
   "id": "40270c8d",
   "metadata": {},
   "outputs": [],
   "source": []
  },
  {
   "cell_type": "code",
   "execution_count": null,
   "id": "3dc2ec70",
   "metadata": {},
   "outputs": [],
   "source": []
  }
 ],
 "metadata": {
  "kernelspec": {
   "display_name": "Python 3 (ipykernel)",
   "language": "python",
   "name": "python3"
  },
  "language_info": {
   "codemirror_mode": {
    "name": "ipython",
    "version": 3
   },
   "file_extension": ".py",
   "mimetype": "text/x-python",
   "name": "python",
   "nbconvert_exporter": "python",
   "pygments_lexer": "ipython3",
   "version": "3.9.7"
  }
 },
 "nbformat": 4,
 "nbformat_minor": 5
}
